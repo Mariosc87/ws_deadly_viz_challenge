{
 "cells": [
  {
   "cell_type": "markdown",
   "metadata": {},
   "source": [
    "# Deadly Visualizations!!!\n",
    "\n",
    "![Image](../images/viz_types_portada.png)"
   ]
  },
  {
   "cell_type": "markdown",
   "metadata": {},
   "source": [
    "## Setup\n",
    "\n",
    "First we need to create a basic setup which includes:\n",
    "\n",
    "- Importing the libraries.\n",
    "\n",
    "- Reading the dataset file (source [Instituto Nacional de Estadística](https://www.ine.es/ss/Satellite?L=es_ES&c=Page&cid=1259942408928&p=1259942408928&pagename=ProductosYServicios%2FPYSLayout)).\n",
    "\n",
    "- Create a couple of columns and tables for the analysis.\n",
    "\n",
    "__NOTE:__ some functions were already created in order to help you go through the challenge. However, feel free to perform any code you might need."
   ]
  },
  {
   "cell_type": "code",
   "execution_count": null,
   "metadata": {},
   "outputs": [],
   "source": [
    "# imports\n",
    "\n",
    "import sys\n",
    "import re\n",
    "sys.path.insert(0, \"../modules\")\n",
    "\n",
    "import numpy as np\n",
    "import pandas as pd\n",
    "\n",
    "import plotly.express as px\n",
    "import cufflinks as cf\n",
    "cf.go_offline()\n",
    "\n",
    "import module as mod     # functions are include in module.py"
   ]
  },
  {
   "cell_type": "code",
   "execution_count": null,
   "metadata": {},
   "outputs": [],
   "source": [
    "# read dataset\n",
    "\n",
    "deaths = pd.read_csv('../data/7947.csv', sep=';', thousands='.')\n",
    "\n",
    "deaths.info()"
   ]
  },
  {
   "cell_type": "code",
   "execution_count": null,
   "metadata": {},
   "outputs": [],
   "source": [
    "# add some columns...you'll need them later\n",
    "\n",
    "deaths['cause_code'] = deaths['Causa de muerte'].apply(mod.cause_code)\n",
    "deaths['cause_group'] = deaths['Causa de muerte'].apply(mod.cause_types)\n",
    "deaths['cause_name'] = deaths['Causa de muerte'].apply(mod.cause_name)\n",
    "\n",
    "deaths.info()"
   ]
  },
  {
   "cell_type": "code",
   "execution_count": null,
   "metadata": {},
   "outputs": [],
   "source": [
    "# lets check the categorical variables\n",
    "\n",
    "var_list = ['Sexo', 'Edad', 'Periodo', 'cause_code', 'cause_name', 'cause_group']\n",
    "\n",
    "categories = mod.cat_var(deaths, var_list)\n",
    "categories"
   ]
  },
  {
   "cell_type": "code",
   "execution_count": null,
   "metadata": {},
   "outputs": [],
   "source": [
    "# we need also to create a causes table for the analysis\n",
    "\n",
    "causes_table = deaths[['cause_code', 'cause_name']].drop_duplicates().sort_values(by='cause_code').reset_index(drop=True)\n",
    "\n",
    "causes_table"
   ]
  },
  {
   "cell_type": "code",
   "execution_count": null,
   "metadata": {},
   "outputs": [],
   "source": [
    "# And some space for free-style Pandas!!! (e.g.: df['column_name'].unique())\n",
    "\n",
    "\n",
    "\n",
    "\n",
    "\n",
    "\n"
   ]
  },
  {
   "cell_type": "markdown",
   "metadata": {},
   "source": [
    "## Lets make some transformations\n",
    "\n",
    "Eventhough the dataset is pretty clean, the information is completely denormalized as you could see. For that matter a collection of methods (functions) are available in order to generate the tables you might need:\n",
    "\n",
    "- `row_filter(df, cat_var, cat_values)` => Filter rows by any value or group of values in a categorical variable.\n",
    "\n",
    "- `nrow_filter(df, cat_var, cat_values)` => The same but backwards. \n",
    "\n",
    "- `groupby_sum(df, group_vars, agg_var='Total', sort_var='Total')` => Add deaths by a certain variable.\n",
    "\n",
    "- `pivot_table(df, col, x_axis, value='Total')`=> Make some pivot tables, you might need them...\n",
    "\n",
    "__NOTE:__ be aware that the filtering methods can perform a filter at a time. Feel free to perform the filter you need in any way you want or feel confortable with."
   ]
  },
  {
   "cell_type": "code",
   "execution_count": null,
   "metadata": {},
   "outputs": [],
   "source": [
    "# Example 1\n",
    "'''\n",
    "dataset = mod.row_filter(deaths, 'Sexo', ['Total'])\n",
    "dataset = mod.row_filter(dataset, 'Edad', ['Todas las edades'])\n",
    "dataset.head()\n",
    "'''"
   ]
  },
  {
   "cell_type": "code",
   "execution_count": null,
   "metadata": {},
   "outputs": [],
   "source": [
    "# Example 2\n",
    "'''\n",
    "group = ['cause_code','Periodo']\n",
    "dataset = mod.groupby_sum(deaths, group)\n",
    "dataset.head()\n",
    "'''"
   ]
  },
  {
   "cell_type": "code",
   "execution_count": null,
   "metadata": {},
   "outputs": [],
   "source": [
    "# Example 3\n",
    "'''\n",
    "dataset = mod.pivot_table(dataset, 'cause_code', 'Periodo')\n",
    "dataset.head()\n",
    "'''"
   ]
  },
  {
   "cell_type": "markdown",
   "metadata": {},
   "source": [
    "## ...and finally, show me some insights with Plotly!!!"
   ]
  },
  {
   "cell_type": "code",
   "execution_count": null,
   "metadata": {},
   "outputs": [],
   "source": [
    "# Cufflinks histogram\n",
    "'''\n",
    "dataset_column.iplot(kind='hist',\n",
    "                     title='VIZ TITLE',\n",
    "                     yTitle='AXIS TITLE',\n",
    "                     xTitle='AXIS TITLE')\n",
    "'''"
   ]
  },
  {
   "cell_type": "code",
   "execution_count": null,
   "metadata": {},
   "outputs": [],
   "source": [
    "# Cufflinks bar plot\n",
    "'''\n",
    "dataset_bar.iplot(kind='bar',\n",
    "                  x='VARIABLE',\n",
    "                  xTitle='AXIS TITLE',\n",
    "                  yTitle='AXIS TITLE',\n",
    "                  title='VIZ TITLE')\n",
    "'''"
   ]
  },
  {
   "cell_type": "code",
   "execution_count": null,
   "metadata": {},
   "outputs": [],
   "source": [
    "# Cufflinks line plot\n",
    "'''\n",
    "dataset_line.iplot(kind='line',\n",
    "                   x='VARIABLE',\n",
    "                   xTitle='AXIS TITLE',\n",
    "                   yTitle='AXIS TITLE',\n",
    "                   title='VIZ TITLE')\n",
    "'''"
   ]
  },
  {
   "cell_type": "code",
   "execution_count": null,
   "metadata": {},
   "outputs": [],
   "source": [
    "# Cufflinks scatter plot\n",
    "'''\n",
    "dataset_scatter.iplot(x='VARIABLE', \n",
    "                      y='VARIABLE', \n",
    "                      categories='VARIABLE',\n",
    "                      xTitle='AXIS TITLE', \n",
    "                      yTitle='AXIS TITLE',\n",
    "                      title='VIZ TITLE')\n",
    "'''"
   ]
  }
 ],
 "metadata": {
  "kernelspec": {
   "display_name": "Python [conda env:.conda-ironhack]",
   "language": "python",
   "name": "conda-env-.conda-ironhack-py"
  },
  "language_info": {
   "codemirror_mode": {
    "name": "ipython",
    "version": 3
   },
   "file_extension": ".py",
   "mimetype": "text/x-python",
   "name": "python",
   "nbconvert_exporter": "python",
   "pygments_lexer": "ipython3",
   "version": "3.7.11"
  }
 },
 "nbformat": 4,
 "nbformat_minor": 2
}
